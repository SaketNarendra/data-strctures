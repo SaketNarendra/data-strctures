{
 "cells": [
  {
   "cell_type": "markdown",
   "id": "4d0cedd3",
   "metadata": {},
   "source": [
    "# Quick Sort"
   ]
  },
  {
   "cell_type": "code",
   "execution_count": 1,
   "id": "cd9a5ce5",
   "metadata": {},
   "outputs": [],
   "source": [
    "def quick_sort(sequence):\n",
    "    length = len(sequence)\n",
    "    if length <= 1:\n",
    "        return sequence\n",
    "    else:\n",
    "        pivot = sequence.pop()\n",
    "        \n",
    "    items_greater = []\n",
    "    items_lower = []\n",
    "    \n",
    "    for item in sequence:\n",
    "        if item > pivot:\n",
    "            items_greater.append(item)\n",
    "            \n",
    "        else:\n",
    "            items_lower.append(item)\n",
    "            \n",
    "    return quick_sort(items_lower) + [pivot] + quick_sort(items_greater)"
   ]
  },
  {
   "cell_type": "code",
   "execution_count": 5,
   "id": "be6de749",
   "metadata": {},
   "outputs": [
    {
     "name": "stdout",
     "output_type": "stream",
     "text": [
      "[1, 2, 3, 3, 4, 5, 5, 5, 6, 6, 7, 7, 7, 7, 8, 8, 8, 32, 34, 45, 52, 89]\n"
     ]
    }
   ],
   "source": [
    "print(quick_sort([1,2,3,4,5,6,7,8,8,5,45,6,7,3,7,8,7,89,34,5,32,52,]))"
   ]
  },
  {
   "cell_type": "code",
   "execution_count": null,
   "id": "d0db029d",
   "metadata": {},
   "outputs": [],
   "source": []
  }
 ],
 "metadata": {
  "kernelspec": {
   "display_name": "Python 3 (ipykernel)",
   "language": "python",
   "name": "python3"
  },
  "language_info": {
   "codemirror_mode": {
    "name": "ipython",
    "version": 3
   },
   "file_extension": ".py",
   "mimetype": "text/x-python",
   "name": "python",
   "nbconvert_exporter": "python",
   "pygments_lexer": "ipython3",
   "version": "3.8.5"
  }
 },
 "nbformat": 4,
 "nbformat_minor": 5
}
